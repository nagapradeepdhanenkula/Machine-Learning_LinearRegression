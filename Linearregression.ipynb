{
 "cells": [
  {
   "cell_type": "markdown",
   "id": "74b338dc",
   "metadata": {},
   "source": [
    "# Linear Regression\n",
    "importing the required Libraries"
   ]
  },
  {
   "cell_type": "code",
   "execution_count": 114,
   "id": "facf9a9f",
   "metadata": {},
   "outputs": [],
   "source": [
    "import pandas as pd\n",
    "import numpy as np\n",
    "import matplotlib.pyplot as plt\n",
    "import seaborn as sns"
   ]
  },
  {
   "cell_type": "code",
   "execution_count": 115,
   "id": "f9a914a2",
   "metadata": {},
   "outputs": [],
   "source": [
    "# Reading the Dataset into Pandas"
   ]
  },
  {
   "cell_type": "code",
   "execution_count": 116,
   "id": "e4b71abe",
   "metadata": {},
   "outputs": [
    {
     "data": {
      "text/html": [
       "<div>\n",
       "<style scoped>\n",
       "    .dataframe tbody tr th:only-of-type {\n",
       "        vertical-align: middle;\n",
       "    }\n",
       "\n",
       "    .dataframe tbody tr th {\n",
       "        vertical-align: top;\n",
       "    }\n",
       "\n",
       "    .dataframe thead th {\n",
       "        text-align: right;\n",
       "    }\n",
       "</style>\n",
       "<table border=\"1\" class=\"dataframe\">\n",
       "  <thead>\n",
       "    <tr style=\"text-align: right;\">\n",
       "      <th></th>\n",
       "      <th>PRICE</th>\n",
       "      <th>HEIGHT</th>\n",
       "      <th>WIDTH</th>\n",
       "      <th>SIGNED</th>\n",
       "      <th>PICTURE</th>\n",
       "      <th>HOUSE</th>\n",
       "    </tr>\n",
       "  </thead>\n",
       "  <tbody>\n",
       "    <tr>\n",
       "      <th>0</th>\n",
       "      <td>3.993780</td>\n",
       "      <td>21.3</td>\n",
       "      <td>25.6</td>\n",
       "      <td>1</td>\n",
       "      <td>1</td>\n",
       "      <td>1</td>\n",
       "    </tr>\n",
       "    <tr>\n",
       "      <th>1</th>\n",
       "      <td>8.800000</td>\n",
       "      <td>31.9</td>\n",
       "      <td>25.6</td>\n",
       "      <td>1</td>\n",
       "      <td>2</td>\n",
       "      <td>2</td>\n",
       "    </tr>\n",
       "    <tr>\n",
       "      <th>2</th>\n",
       "      <td>0.131694</td>\n",
       "      <td>6.9</td>\n",
       "      <td>15.9</td>\n",
       "      <td>0</td>\n",
       "      <td>3</td>\n",
       "      <td>3</td>\n",
       "    </tr>\n",
       "    <tr>\n",
       "      <th>3</th>\n",
       "      <td>2.037500</td>\n",
       "      <td>25.7</td>\n",
       "      <td>32.0</td>\n",
       "      <td>1</td>\n",
       "      <td>4</td>\n",
       "      <td>2</td>\n",
       "    </tr>\n",
       "    <tr>\n",
       "      <th>4</th>\n",
       "      <td>1.487500</td>\n",
       "      <td>25.7</td>\n",
       "      <td>32.0</td>\n",
       "      <td>1</td>\n",
       "      <td>4</td>\n",
       "      <td>2</td>\n",
       "    </tr>\n",
       "  </tbody>\n",
       "</table>\n",
       "</div>"
      ],
      "text/plain": [
       "      PRICE  HEIGHT  WIDTH  SIGNED  PICTURE  HOUSE \n",
       "0  3.993780    21.3   25.6       1        1       1\n",
       "1  8.800000    31.9   25.6       1        2       2\n",
       "2  0.131694     6.9   15.9       0        3       3\n",
       "3  2.037500    25.7   32.0       1        4       2\n",
       "4  1.487500    25.7   32.0       1        4       2"
      ]
     },
     "execution_count": 116,
     "metadata": {},
     "output_type": "execute_result"
    }
   ],
   "source": [
    "df = pd.read_csv('monet.csv')\n",
    "df.head()"
   ]
  },
  {
   "cell_type": "code",
   "execution_count": 117,
   "id": "1a95bc67",
   "metadata": {},
   "outputs": [],
   "source": [
    "#To check the No. of rows and columns"
   ]
  },
  {
   "cell_type": "code",
   "execution_count": 118,
   "id": "88e7f5c6",
   "metadata": {},
   "outputs": [
    {
     "data": {
      "text/plain": [
       "(430, 6)"
      ]
     },
     "execution_count": 118,
     "metadata": {},
     "output_type": "execute_result"
    }
   ],
   "source": [
    "df.shape"
   ]
  },
  {
   "cell_type": "code",
   "execution_count": 119,
   "id": "6fd53d6c",
   "metadata": {},
   "outputs": [],
   "source": [
    "#Check for Null values"
   ]
  },
  {
   "cell_type": "code",
   "execution_count": 120,
   "id": "e89e0721",
   "metadata": {},
   "outputs": [
    {
     "data": {
      "text/plain": [
       "False"
      ]
     },
     "execution_count": 120,
     "metadata": {},
     "output_type": "execute_result"
    }
   ],
   "source": [
    "df.isnull().values.any()"
   ]
  },
  {
   "cell_type": "code",
   "execution_count": 121,
   "id": "25d2d7b6",
   "metadata": {},
   "outputs": [
    {
     "data": {
      "text/html": [
       "<div>\n",
       "<style scoped>\n",
       "    .dataframe tbody tr th:only-of-type {\n",
       "        vertical-align: middle;\n",
       "    }\n",
       "\n",
       "    .dataframe tbody tr th {\n",
       "        vertical-align: top;\n",
       "    }\n",
       "\n",
       "    .dataframe thead th {\n",
       "        text-align: right;\n",
       "    }\n",
       "</style>\n",
       "<table border=\"1\" class=\"dataframe\">\n",
       "  <thead>\n",
       "    <tr style=\"text-align: right;\">\n",
       "      <th></th>\n",
       "      <th>PRICE</th>\n",
       "      <th>HEIGHT</th>\n",
       "      <th>WIDTH</th>\n",
       "      <th>SIGNED</th>\n",
       "      <th>PICTURE</th>\n",
       "      <th>HOUSE</th>\n",
       "    </tr>\n",
       "  </thead>\n",
       "  <tbody>\n",
       "    <tr>\n",
       "      <th>count</th>\n",
       "      <td>430.000000</td>\n",
       "      <td>430.000000</td>\n",
       "      <td>430.000000</td>\n",
       "      <td>430.000000</td>\n",
       "      <td>430.000000</td>\n",
       "      <td>430.000000</td>\n",
       "    </tr>\n",
       "    <tr>\n",
       "      <th>mean</th>\n",
       "      <td>3.089996</td>\n",
       "      <td>27.646977</td>\n",
       "      <td>32.111395</td>\n",
       "      <td>0.820930</td>\n",
       "      <td>182.644186</td>\n",
       "      <td>1.611628</td>\n",
       "    </tr>\n",
       "    <tr>\n",
       "      <th>std</th>\n",
       "      <td>4.311260</td>\n",
       "      <td>10.097013</td>\n",
       "      <td>10.459677</td>\n",
       "      <td>0.383857</td>\n",
       "      <td>109.091529</td>\n",
       "      <td>0.591592</td>\n",
       "    </tr>\n",
       "    <tr>\n",
       "      <th>min</th>\n",
       "      <td>0.010413</td>\n",
       "      <td>3.900000</td>\n",
       "      <td>6.700000</td>\n",
       "      <td>0.000000</td>\n",
       "      <td>1.000000</td>\n",
       "      <td>1.000000</td>\n",
       "    </tr>\n",
       "    <tr>\n",
       "      <th>25%</th>\n",
       "      <td>0.600153</td>\n",
       "      <td>23.125000</td>\n",
       "      <td>28.525000</td>\n",
       "      <td>1.000000</td>\n",
       "      <td>87.250000</td>\n",
       "      <td>1.000000</td>\n",
       "    </tr>\n",
       "    <tr>\n",
       "      <th>50%</th>\n",
       "      <td>1.312782</td>\n",
       "      <td>25.600000</td>\n",
       "      <td>31.900000</td>\n",
       "      <td>1.000000</td>\n",
       "      <td>179.500000</td>\n",
       "      <td>2.000000</td>\n",
       "    </tr>\n",
       "    <tr>\n",
       "      <th>75%</th>\n",
       "      <td>3.850000</td>\n",
       "      <td>31.450000</td>\n",
       "      <td>36.200000</td>\n",
       "      <td>1.000000</td>\n",
       "      <td>274.750000</td>\n",
       "      <td>2.000000</td>\n",
       "    </tr>\n",
       "    <tr>\n",
       "      <th>max</th>\n",
       "      <td>33.013504</td>\n",
       "      <td>78.700000</td>\n",
       "      <td>89.000000</td>\n",
       "      <td>1.000000</td>\n",
       "      <td>387.000000</td>\n",
       "      <td>3.000000</td>\n",
       "    </tr>\n",
       "  </tbody>\n",
       "</table>\n",
       "</div>"
      ],
      "text/plain": [
       "            PRICE      HEIGHT       WIDTH      SIGNED     PICTURE      HOUSE \n",
       "count  430.000000  430.000000  430.000000  430.000000  430.000000  430.000000\n",
       "mean     3.089996   27.646977   32.111395    0.820930  182.644186    1.611628\n",
       "std      4.311260   10.097013   10.459677    0.383857  109.091529    0.591592\n",
       "min      0.010413    3.900000    6.700000    0.000000    1.000000    1.000000\n",
       "25%      0.600153   23.125000   28.525000    1.000000   87.250000    1.000000\n",
       "50%      1.312782   25.600000   31.900000    1.000000  179.500000    2.000000\n",
       "75%      3.850000   31.450000   36.200000    1.000000  274.750000    2.000000\n",
       "max     33.013504   78.700000   89.000000    1.000000  387.000000    3.000000"
      ]
     },
     "execution_count": 121,
     "metadata": {},
     "output_type": "execute_result"
    }
   ],
   "source": [
    "# summarized descriptive Statistics\n",
    "df.describe()"
   ]
  },
  {
   "cell_type": "code",
   "execution_count": 122,
   "id": "78f2e323",
   "metadata": {},
   "outputs": [],
   "source": [
    "#Correlation Matrix using Heatmap"
   ]
  },
  {
   "cell_type": "code",
   "execution_count": 123,
   "id": "0174ef03",
   "metadata": {},
   "outputs": [
    {
     "data": {
      "image/png": "[encoded data removed]",
      "text/plain": [
       "<Figure size 720x360 with 2 Axes>"
      ]
     },
     "metadata": {
      "needs_background": "light"
     },
     "output_type": "display_data"
    }
   ],
   "source": [
    "plt.figure(figsize = (10, 5))\n",
    "sns.heatmap(df_corr, annot=True)\n",
    "plt.title(\"Correlation Matrix\")\n",
    "plt.show()\n"
   ]
  },
  {
   "cell_type": "code",
   "execution_count": 124,
   "id": "cd305ccc",
   "metadata": {},
   "outputs": [],
   "source": [
    "#Creating a New Variable by Multiplying the W*H "
   ]
  },
  {
   "cell_type": "code",
   "execution_count": 125,
   "id": "b4ed1245",
   "metadata": {},
   "outputs": [
    {
     "data": {
      "text/html": [
       "<div>\n",
       "<style scoped>\n",
       "    .dataframe tbody tr th:only-of-type {\n",
       "        vertical-align: middle;\n",
       "    }\n",
       "\n",
       "    .dataframe tbody tr th {\n",
       "        vertical-align: top;\n",
       "    }\n",
       "\n",
       "    .dataframe thead th {\n",
       "        text-align: right;\n",
       "    }\n",
       "</style>\n",
       "<table border=\"1\" class=\"dataframe\">\n",
       "  <thead>\n",
       "    <tr style=\"text-align: right;\">\n",
       "      <th></th>\n",
       "      <th>PRICE</th>\n",
       "      <th>HEIGHT</th>\n",
       "      <th>WIDTH</th>\n",
       "      <th>SIGNED</th>\n",
       "      <th>PICTURE</th>\n",
       "      <th>HOUSE</th>\n",
       "      <th>size</th>\n",
       "    </tr>\n",
       "  </thead>\n",
       "  <tbody>\n",
       "    <tr>\n",
       "      <th>0</th>\n",
       "      <td>3.993780</td>\n",
       "      <td>21.3</td>\n",
       "      <td>25.6</td>\n",
       "      <td>1</td>\n",
       "      <td>1</td>\n",
       "      <td>1</td>\n",
       "      <td>6.301299</td>\n",
       "    </tr>\n",
       "    <tr>\n",
       "      <th>1</th>\n",
       "      <td>8.800000</td>\n",
       "      <td>31.9</td>\n",
       "      <td>25.6</td>\n",
       "      <td>1</td>\n",
       "      <td>2</td>\n",
       "      <td>2</td>\n",
       "      <td>6.705198</td>\n",
       "    </tr>\n",
       "    <tr>\n",
       "      <th>2</th>\n",
       "      <td>0.131694</td>\n",
       "      <td>6.9</td>\n",
       "      <td>15.9</td>\n",
       "      <td>0</td>\n",
       "      <td>3</td>\n",
       "      <td>3</td>\n",
       "      <td>4.697841</td>\n",
       "    </tr>\n",
       "    <tr>\n",
       "      <th>3</th>\n",
       "      <td>2.037500</td>\n",
       "      <td>25.7</td>\n",
       "      <td>32.0</td>\n",
       "      <td>1</td>\n",
       "      <td>4</td>\n",
       "      <td>2</td>\n",
       "      <td>6.712227</td>\n",
       "    </tr>\n",
       "    <tr>\n",
       "      <th>4</th>\n",
       "      <td>1.487500</td>\n",
       "      <td>25.7</td>\n",
       "      <td>32.0</td>\n",
       "      <td>1</td>\n",
       "      <td>4</td>\n",
       "      <td>2</td>\n",
       "      <td>6.712227</td>\n",
       "    </tr>\n",
       "  </tbody>\n",
       "</table>\n",
       "</div>"
      ],
      "text/plain": [
       "      PRICE  HEIGHT  WIDTH  SIGNED  PICTURE  HOUSE       size\n",
       "0  3.993780    21.3   25.6       1        1       1  6.301299\n",
       "1  8.800000    31.9   25.6       1        2       2  6.705198\n",
       "2  0.131694     6.9   15.9       0        3       3  4.697841\n",
       "3  2.037500    25.7   32.0       1        4       2  6.712227\n",
       "4  1.487500    25.7   32.0       1        4       2  6.712227"
      ]
     },
     "execution_count": 125,
     "metadata": {},
     "output_type": "execute_result"
    }
   ],
   "source": [
    "#Size =  Width X Height \n",
    "df_SVariable = df.assign(size=lambda df_: np.log(df_['HEIGHT'] * df_['WIDTH']))\n",
    "df_SVariable.head()"
   ]
  },
  {
   "cell_type": "code",
   "execution_count": 126,
   "id": "abd8635f",
   "metadata": {},
   "outputs": [],
   "source": [
    "#The independent attributes are assigned to to 'X' and Dependent attributes are assigned to 'Y'\n",
    "# Splitting the data"
   ]
  },
  {
   "cell_type": "code",
   "execution_count": 127,
   "id": "a30447e0",
   "metadata": {},
   "outputs": [
    {
     "name": "stdout",
     "output_type": "stream",
     "text": [
      "Mean squared error: 19.62\n",
      "Goodness of fit: 0.07\n"
     ]
    },
    {
     "data": {
      "image/png": "[encoded data removed]",
      "text/plain": [
       "<Figure size 432x288 with 1 Axes>"
      ]
     },
     "metadata": {
      "needs_background": "light"
     },
     "output_type": "display_data"
    }
   ],
   "source": [
    "from sklearn.model_selection import train_test_split\n",
    "from sklearn.linear_model import LinearRegression\n",
    "#Model Evaluation\n",
    "from sklearn.metrics import mean_squared_error, r2_score\n",
    "\n",
    "X_train, X_test, y_train, y_test = train_test_split(df_SVariable['HEIGHT'], df_SVariable['PRICE'], test_size=.2, random_state=42)\n",
    "X_train = X_train.values.reshape(-1,1)\n",
    "X_test = X_test.values.reshape(-1,1)\n",
    "y_train = y_train.values.reshape(-1,1)\n",
    "y_test = y_test.values.reshape(-1,1)\n",
    "\n",
    "#Model 1 (Height)\n",
    "lr = LinearRegression()\n",
    "lr.fit(X_train, y_train)\n",
    "\n",
    "y_predicts = lr.predict(X_test)\n",
    "\n",
    "#Model Evaluation\n",
    "print(\"Mean squared error: %.2f\" % mean_squared_error(y_test, y_predicts))\n",
    "print(\"Goodness of fit: %.2f\" % r2_score(y_test, y_predicts))\n",
    "#scatter plot\n",
    "plt.scatter(X_test, y_test, color=\"red\")\n",
    "plt.plot(X_test, y_predicts, color=\"blue\", linewidth=2)\n",
    "plt.xlabel('HEIGHT')\n",
    "plt.ylabel('PRICE')\n",
    "plt.title(\"Scatter plot\")\n",
    "plt.show()"
   ]
  },
  {
   "cell_type": "code",
   "execution_count": 128,
   "id": "84acc14f",
   "metadata": {},
   "outputs": [],
   "source": [
    "#linear regression model-2"
   ]
  },
  {
   "cell_type": "code",
   "execution_count": 129,
   "id": "a37aa8d7",
   "metadata": {},
   "outputs": [
    {
     "name": "stdout",
     "output_type": "stream",
     "text": [
      "Mean squared error: 18.71\n",
      "Goodness of fit: 0.11\n"
     ]
    },
    {
     "data": {
      "image/png": "[encoded data removed]",
      "text/plain": [
       "<Figure size 432x288 with 1 Axes>"
      ]
     },
     "metadata": {
      "needs_background": "light"
     },
     "output_type": "display_data"
    }
   ],
   "source": [
    "from sklearn.model_selection import train_test_split\n",
    "from sklearn.linear_model import LinearRegression\n",
    "#Model Evaluation\n",
    "from sklearn.metrics import mean_squared_error, r2_score\n",
    "\n",
    "X_train, X_test, y_train, y_test = train_test_split(df_SVariable['size'], df_SVariable['PRICE'], test_size=.2, random_state=42)\n",
    "X_train = X_train.values.reshape(-1,1)\n",
    "X_test = X_test.values.reshape(-1,1)\n",
    "y_train = y_train.values.reshape(-1,1)\n",
    "y_test = y_test.values.reshape(-1,1)\n",
    "\n",
    "#Model 2 (size)\n",
    "lr = LinearRegression()\n",
    "lr.fit(X_train, y_train)\n",
    "\n",
    "y_predicts = lr.predict(X_test)\n",
    "\n",
    "#Model Evaluation\n",
    "print(\"Mean squared error: %.2f\" % mean_squared_error(y_test, y_predicts))\n",
    "print(\"Goodness of fit: %.2f\" % r2_score(y_test, y_predicts))\n",
    "#scatter plot\n",
    "plt.scatter(X_test, y_test, color=\"blue\")\n",
    "plt.plot(X_test, y_predicts, color=\"black\", linewidth=2)\n",
    "plt.xlabel('size')\n",
    "plt.ylabel('PRICE')\n",
    "plt.title(\"Scatter plot\")\n",
    "plt.show()"
   ]
  },
  {
   "cell_type": "code",
   "execution_count": 130,
   "id": "c568eb14",
   "metadata": {},
   "outputs": [],
   "source": [
    "#Multivariate Linear Regression Model"
   ]
  },
  {
   "cell_type": "code",
   "execution_count": 131,
   "id": "17f74396",
   "metadata": {},
   "outputs": [
    {
     "data": {
      "text/html": [
       "<div>\n",
       "<style scoped>\n",
       "    .dataframe tbody tr th:only-of-type {\n",
       "        vertical-align: middle;\n",
       "    }\n",
       "\n",
       "    .dataframe tbody tr th {\n",
       "        vertical-align: top;\n",
       "    }\n",
       "\n",
       "    .dataframe thead th {\n",
       "        text-align: right;\n",
       "    }\n",
       "</style>\n",
       "<table border=\"1\" class=\"dataframe\">\n",
       "  <thead>\n",
       "    <tr style=\"text-align: right;\">\n",
       "      <th></th>\n",
       "      <th>PRICE</th>\n",
       "      <th>HEIGHT</th>\n",
       "      <th>WIDTH</th>\n",
       "      <th>SIGNED</th>\n",
       "      <th>PICTURE</th>\n",
       "      <th>HOUSE</th>\n",
       "      <th>size</th>\n",
       "    </tr>\n",
       "  </thead>\n",
       "  <tbody>\n",
       "    <tr>\n",
       "      <th>0</th>\n",
       "      <td>0.209878</td>\n",
       "      <td>-0.629332</td>\n",
       "      <td>-0.623249</td>\n",
       "      <td>0.467044</td>\n",
       "      <td>-1.667002</td>\n",
       "      <td>-1.035072</td>\n",
       "      <td>-0.644811</td>\n",
       "    </tr>\n",
       "    <tr>\n",
       "      <th>1</th>\n",
       "      <td>1.325983</td>\n",
       "      <td>0.421707</td>\n",
       "      <td>-0.623249</td>\n",
       "      <td>0.467044</td>\n",
       "      <td>-1.657824</td>\n",
       "      <td>0.657251</td>\n",
       "      <td>0.042785</td>\n",
       "    </tr>\n",
       "    <tr>\n",
       "      <th>2</th>\n",
       "      <td>-0.686980</td>\n",
       "      <td>-2.057157</td>\n",
       "      <td>-1.551700</td>\n",
       "      <td>-2.141125</td>\n",
       "      <td>-1.648647</td>\n",
       "      <td>2.349574</td>\n",
       "      <td>-3.374535</td>\n",
       "    </tr>\n",
       "    <tr>\n",
       "      <th>3</th>\n",
       "      <td>-0.244412</td>\n",
       "      <td>-0.193052</td>\n",
       "      <td>-0.010662</td>\n",
       "      <td>0.467044</td>\n",
       "      <td>-1.639470</td>\n",
       "      <td>0.657251</td>\n",
       "      <td>0.054751</td>\n",
       "    </tr>\n",
       "    <tr>\n",
       "      <th>4</th>\n",
       "      <td>-0.372133</td>\n",
       "      <td>-0.193052</td>\n",
       "      <td>-0.010662</td>\n",
       "      <td>0.467044</td>\n",
       "      <td>-1.639470</td>\n",
       "      <td>0.657251</td>\n",
       "      <td>0.054751</td>\n",
       "    </tr>\n",
       "  </tbody>\n",
       "</table>\n",
       "</div>"
      ],
      "text/plain": [
       "      PRICE    HEIGHT     WIDTH    SIGNED   PICTURE    HOUSE       size\n",
       "0  0.209878 -0.629332 -0.623249  0.467044 -1.667002 -1.035072 -0.644811\n",
       "1  1.325983  0.421707 -0.623249  0.467044 -1.657824  0.657251  0.042785\n",
       "2 -0.686980 -2.057157 -1.551700 -2.141125 -1.648647  2.349574 -3.374535\n",
       "3 -0.244412 -0.193052 -0.010662  0.467044 -1.639470  0.657251  0.054751\n",
       "4 -0.372133 -0.193052 -0.010662  0.467044 -1.639470  0.657251  0.054751"
      ]
     },
     "execution_count": 131,
     "metadata": {},
     "output_type": "execute_result"
    }
   ],
   "source": [
    "from sklearn.preprocessing import StandardScaler\n",
    "\n",
    "scaler = StandardScaler()\n",
    "df_normalized = scaler.fit_transform(df_SVariable)\n",
    "df = pd.DataFrame(df_normalized, columns=df_SVariable.columns)\n",
    "df.head()"
   ]
  },
  {
   "cell_type": "code",
   "execution_count": 132,
   "id": "c2f3bb63",
   "metadata": {},
   "outputs": [
    {
     "name": "stdout",
     "output_type": "stream",
     "text": [
      "[[-0.62933164 -0.62324871  0.46704423 -1.66700175 -1.03507215]\n",
      " [ 0.42170662 -0.62324871  0.46704423 -1.65782446  0.65725114]\n",
      " [-2.05715718 -1.55169986 -2.14112484 -1.64864716  2.34957443]\n",
      " ...\n",
      " [-0.20296706  0.71678388  0.46704423  1.76530549 -1.03507215]\n",
      " [-0.20296706  0.69764055  0.46704423  1.8662557   0.65725114]\n",
      " [-0.19305161 -0.01066239  0.46704423  1.87543299 -1.03507215]]\n",
      "Mean squared error 0.9176722655319175\n",
      "Goodness of fit 0.07560836804852422\n"
     ]
    }
   ],
   "source": [
    "#Multivariate Linear Regression Model\n",
    "df.drop(['size'], axis = 1, inplace = True)\n",
    "X = df.iloc[:, 1:].values\n",
    "y = df.iloc[:, 0].values\n",
    "print(X)\n",
    "X_train, X_test, y_train, y_test = train_test_split(X, y,train_size=.2, random_state=42)\n",
    "\n",
    "lr = LinearRegression()\n",
    "lr.fit(X_train, y_train)\n",
    "y_predicts = lr.predict(X_test)\n",
    "#Model Evaluation\n",
    "print(\"Mean squared error\" , mean_squared_error(y_test, y_predicts))\n",
    "print(\"Goodness of fit\", r2_score(y_test, y_predicts))"
   ]
  },
  {
   "cell_type": "code",
   "execution_count": 135,
   "id": "66626177",
   "metadata": {},
   "outputs": [
    {
     "data": {
      "image/png": "[encoded data removed]",
      "text/plain": [
       "<Figure size 432x288 with 1 Axes>"
      ]
     },
     "metadata": {
      "needs_background": "light"
     },
     "output_type": "display_data"
    }
   ],
   "source": [
    "#Regplot\n",
    "sns.regplot(x=y_test, y=y_predicts,color ='red')\n",
    "plt.xlabel('Actual Price')\n",
    "plt.ylabel('Predicted Price')\n",
    "plt.title('Predicted vs Actual')\n",
    "plt.show()"
   ]
  },
  {
   "cell_type": "markdown",
   "id": "e68bfc8a",
   "metadata": {},
   "source": [
    "# the end"
   ]
  }
 ],
 "metadata": {
  "kernelspec": {
   "display_name": "Python 3 (ipykernel)",
   "language": "python",
   "name": "python3"
  },
  "language_info": {
   "codemirror_mode": {
    "name": "ipython",
    "version": 3
   },
   "file_extension": ".py",
   "mimetype": "text/x-python",
   "name": "python",
   "nbconvert_exporter": "python",
   "pygments_lexer": "ipython3",
   "version": "3.10.5"
  }
 },
 "nbformat": 4,
 "nbformat_minor": 5
}
